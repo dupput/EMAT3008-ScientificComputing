{
 "cells": [
  {
   "cell_type": "code",
   "execution_count": 20,
   "metadata": {},
   "outputs": [],
   "source": [
    "import numpy as np\n",
    "\n",
    "import sys\n",
    "sys.path.append(\"..\") \n",
    "\n",
    "from scipy.integrate import solve_ivp\n",
    "from SciComp._ode_solvers import rk4_step, heun_step, euler_step\n"
   ]
  },
  {
   "cell_type": "code",
   "execution_count": 22,
   "metadata": {},
   "outputs": [],
   "source": [
    "def scipy_solver(bvp, t):\n",
    "    \"\"\"\n",
    "    Function to solve the PDE using Scipy's solve_ivp.\n",
    "\n",
    "    Parameters\n",
    "    ----------\n",
    "    bvp : BVP object\n",
    "        Boundary value problem to solve. Object instantiated in SciComp/bvp.py.\n",
    "    t : numpy.ndarray\n",
    "        Array of time values.\n",
    "\n",
    "    Returns\n",
    "    -------\n",
    "    u : numpy.ndarray\n",
    "        Solution to the PDE.\n",
    "    \"\"\"\n",
    "    A, b, x_array = bvp.construct_matrix()\n",
    "    \n",
    "    u_boundary = bvp.f_fun(x_array, t[0])\n",
    "\n",
    "    def PDE(t, u, D, A, b):\n",
    "        return bvp.C * (A @ u + b) + bvp.q_fun(x_array, t, u)  \n",
    "\n",
    "    sol = solve_ivp(PDE, (t[0], t[-1]), u_boundary, method='RK45', t_eval=t, args=(bvp.D, A, b))\n",
    "\n",
    "    u = sol.y\n",
    "\n",
    "    return u\n",
    "\n",
    "\n",
    "def implicit_euler(bvp, t):\n",
    "    \"\"\"\n",
    "    Function to solve the PDE using the implicit Euler method.\n",
    "\n",
    "    Parameters\n",
    "    ----------\n",
    "    bvp : BVP object\n",
    "        Boundary value problem to solve. Object instantiated in SciComp/bvp.py.\n",
    "    t : numpy.ndarray\n",
    "        Array of time values.\n",
    "    source_fun : callable\n",
    "        Function that computes the source term value at each grid point and time.\n",
    "\n",
    "    Returns\n",
    "    -------\n",
    "    solution : numpy.ndarray\n",
    "        Solution to the PDE.\n",
    "    \"\"\"\n",
    "    A, b, x_array = bvp.construct_matrix()\n",
    "\n",
    "    I = np.eye(bvp.shape)\n",
    "\n",
    "    lhs = I - bvp.C * A\n",
    "\n",
    "    u = np.zeros((len(x_array), len(t)))\n",
    "    u[:, 0] = bvp.f_fun(x_array, t[0])\n",
    "\n",
    "    for ti in range(0, len(t)-1):\n",
    "        dt = t[ti+1] - t[ti]\n",
    "        q = bvp.q_fun(x_array, t[ti+1], u[:, ti])\n",
    "        u[:, ti+1] = np.linalg.solve(lhs, u[:, ti] + bvp.C * b + dt * q)\n",
    "\n",
    "    return u\n"
   ]
  },
  {
   "cell_type": "code",
   "execution_count": 9,
   "metadata": {},
   "outputs": [],
   "source": [
    "def imex_euler(bvp, t):\n",
    "    \"\"\"\n",
    "    Function to solve the PDE using the IMEX Euler method.\n",
    "\n",
    "    Parameters\n",
    "    ----------\n",
    "    bvp : BVP object\n",
    "        Boundary value problem to solve. Object instantiated in SciComp/bvp.py.\n",
    "    t : numpy.ndarray\n",
    "        Array of time values.\n",
    "\n",
    "    Returns\n",
    "    -------\n",
    "    solution : numpy.ndarray\n",
    "        Solution to the PDE.\n",
    "    \"\"\"\n",
    "    A, b, x_array = bvp.construct_matrix()\n",
    "\n",
    "    I = np.eye(bvp.shape)\n",
    "\n",
    "    # Construct left and right sides of the equation for the implicit part (diffusive terms)\n",
    "    lhs = I - bvp.C * A\n",
    "    rhs = bvp.C * b\n",
    "\n",
    "    u = np.zeros((len(x_array), len(t)))\n",
    "    u[:, 0] = bvp.f_fun(x_array, t[0])\n",
    "\n",
    "    # Solve for each timestep\n",
    "    for ti in range(0, len(t)-1):\n",
    "        # Implicit part (diffusive terms)\n",
    "        u[:, ti+1] = np.linalg.solve(lhs, u[:, ti] + rhs)\n",
    "\n",
    "        # Explicit part (nonlinear terms)\n",
    "        if bvp.q_fun is not None:\n",
    "            u[:, ti+1] += bvp.q_fun(x_array, t[ti], u[:, ti])\n",
    "\n",
    "    return u"
   ]
  },
  {
   "cell_type": "code",
   "execution_count": 25,
   "metadata": {},
   "outputs": [
    {
     "name": "stdout",
     "output_type": "stream",
     "text": [
      "False\n"
     ]
    },
    {
     "name": "stderr",
     "output_type": "stream",
     "text": [
      "C:\\Users\\duppu\\AppData\\Local\\Temp\\ipykernel_24960\\2821520491.py:16: RuntimeWarning: overflow encountered in exp\n",
      "  q_fun = lambda x, t, u: np.exp(mu*u)\n",
      "C:\\Users\\duppu\\AppData\\Local\\Temp\\ipykernel_24960\\2623573734.py:22: RuntimeWarning: invalid value encountered in matmul\n",
      "  return bvp.C * (A @ u + b) + bvp.q_fun(x_array, t, u)\n",
      "C:\\Users\\duppu\\AppData\\Local\\Temp\\ipykernel_24960\\2623573734.py:22: RuntimeWarning: invalid value encountered in add\n",
      "  return bvp.C * (A @ u + b) + bvp.q_fun(x_array, t, u)\n"
     ]
    },
    {
     "ename": "ValueError",
     "evalue": "operands could not be broadcast together with shapes (19,1001) (19,501) ",
     "output_type": "error",
     "traceback": [
      "\u001b[1;31m---------------------------------------------------------------------------\u001b[0m",
      "\u001b[1;31mValueError\u001b[0m                                Traceback (most recent call last)",
      "Cell \u001b[1;32mIn[25], line 32\u001b[0m\n\u001b[0;32m     30\u001b[0m \u001b[39m# Check that the solutions are similar\u001b[39;00m\n\u001b[0;32m     31\u001b[0m \u001b[39mprint\u001b[39m(np\u001b[39m.\u001b[39mallclose(u1, u2))\n\u001b[1;32m---> 32\u001b[0m \u001b[39mprint\u001b[39m(np\u001b[39m.\u001b[39;49mallclose(u2, u3))\n\u001b[0;32m     33\u001b[0m \u001b[39mprint\u001b[39m(np\u001b[39m.\u001b[39mallclose(u1, u3))\n",
      "File \u001b[1;32m<__array_function__ internals>:180\u001b[0m, in \u001b[0;36mallclose\u001b[1;34m(*args, **kwargs)\u001b[0m\n",
      "File \u001b[1;32mc:\\Users\\duppu\\miniconda3\\envs\\ScientificComputing\\lib\\site-packages\\numpy\\core\\numeric.py:2265\u001b[0m, in \u001b[0;36mallclose\u001b[1;34m(a, b, rtol, atol, equal_nan)\u001b[0m\n\u001b[0;32m   2194\u001b[0m \u001b[39m@array_function_dispatch\u001b[39m(_allclose_dispatcher)\n\u001b[0;32m   2195\u001b[0m \u001b[39mdef\u001b[39;00m \u001b[39mallclose\u001b[39m(a, b, rtol\u001b[39m=\u001b[39m\u001b[39m1.e-5\u001b[39m, atol\u001b[39m=\u001b[39m\u001b[39m1.e-8\u001b[39m, equal_nan\u001b[39m=\u001b[39m\u001b[39mFalse\u001b[39;00m):\n\u001b[0;32m   2196\u001b[0m \u001b[39m    \u001b[39m\u001b[39m\"\"\"\u001b[39;00m\n\u001b[0;32m   2197\u001b[0m \u001b[39m    Returns True if two arrays are element-wise equal within a tolerance.\u001b[39;00m\n\u001b[0;32m   2198\u001b[0m \n\u001b[1;32m   (...)\u001b[0m\n\u001b[0;32m   2263\u001b[0m \n\u001b[0;32m   2264\u001b[0m \u001b[39m    \"\"\"\u001b[39;00m\n\u001b[1;32m-> 2265\u001b[0m     res \u001b[39m=\u001b[39m \u001b[39mall\u001b[39m(isclose(a, b, rtol\u001b[39m=\u001b[39;49mrtol, atol\u001b[39m=\u001b[39;49matol, equal_nan\u001b[39m=\u001b[39;49mequal_nan))\n\u001b[0;32m   2266\u001b[0m     \u001b[39mreturn\u001b[39;00m \u001b[39mbool\u001b[39m(res)\n",
      "File \u001b[1;32m<__array_function__ internals>:180\u001b[0m, in \u001b[0;36misclose\u001b[1;34m(*args, **kwargs)\u001b[0m\n",
      "File \u001b[1;32mc:\\Users\\duppu\\miniconda3\\envs\\ScientificComputing\\lib\\site-packages\\numpy\\core\\numeric.py:2375\u001b[0m, in \u001b[0;36misclose\u001b[1;34m(a, b, rtol, atol, equal_nan)\u001b[0m\n\u001b[0;32m   2373\u001b[0m yfin \u001b[39m=\u001b[39m isfinite(y)\n\u001b[0;32m   2374\u001b[0m \u001b[39mif\u001b[39;00m \u001b[39mall\u001b[39m(xfin) \u001b[39mand\u001b[39;00m \u001b[39mall\u001b[39m(yfin):\n\u001b[1;32m-> 2375\u001b[0m     \u001b[39mreturn\u001b[39;00m within_tol(x, y, atol, rtol)\n\u001b[0;32m   2376\u001b[0m \u001b[39melse\u001b[39;00m:\n\u001b[0;32m   2377\u001b[0m     finite \u001b[39m=\u001b[39m xfin \u001b[39m&\u001b[39m yfin\n",
      "File \u001b[1;32mc:\\Users\\duppu\\miniconda3\\envs\\ScientificComputing\\lib\\site-packages\\numpy\\core\\numeric.py:2356\u001b[0m, in \u001b[0;36misclose.<locals>.within_tol\u001b[1;34m(x, y, atol, rtol)\u001b[0m\n\u001b[0;32m   2354\u001b[0m \u001b[39mdef\u001b[39;00m \u001b[39mwithin_tol\u001b[39m(x, y, atol, rtol):\n\u001b[0;32m   2355\u001b[0m     \u001b[39mwith\u001b[39;00m errstate(invalid\u001b[39m=\u001b[39m\u001b[39m'\u001b[39m\u001b[39mignore\u001b[39m\u001b[39m'\u001b[39m):\n\u001b[1;32m-> 2356\u001b[0m         \u001b[39mreturn\u001b[39;00m less_equal(\u001b[39mabs\u001b[39m(x\u001b[39m-\u001b[39;49my), atol \u001b[39m+\u001b[39m rtol \u001b[39m*\u001b[39m \u001b[39mabs\u001b[39m(y))\n",
      "\u001b[1;31mValueError\u001b[0m: operands could not be broadcast together with shapes (19,1001) (19,501) "
     ]
    }
   ],
   "source": [
    "import sys\n",
    "sys.path.append(\"..\") \n",
    "\n",
    "from SciComp.plotting import animate_PDE\n",
    "from SciComp.bvp import BVP\n",
    "import numpy as np\n",
    "\n",
    "# Bratu problem\n",
    "a = 0\n",
    "b = 1\n",
    "N = 20\n",
    "alpha = 0\n",
    "beta = 0\n",
    "D = 1\n",
    "mu = 2\n",
    "q_fun = lambda x, t, u: np.exp(mu*u)\n",
    "f_fun = lambda x, t: np.zeros(len(x))\n",
    "bvp = BVP(a, b, N, alpha, beta, condition_type='Dirichlet', q_fun=q_fun, f_fun=f_fun, D=D)\n",
    "\n",
    "t_boundary = 0\n",
    "t_final = 1\n",
    "dt = 0.001\n",
    "\n",
    "t, dt, C = bvp.time_discretization(t_boundary, t_final, dt=dt, method='imex euler')\n",
    "\n",
    "u1 = imex_euler(bvp, t)\n",
    "u2 = implicit_euler(bvp, t)\n",
    "u3 = scipy_solver(bvp, t)\n",
    "\n",
    "# Check that the solutions are similar\n",
    "print(np.allclose(u1, u2))\n",
    "print(np.allclose(u2, u3))\n",
    "print(np.allclose(u1, u3))\n"
   ]
  },
  {
   "cell_type": "code",
   "execution_count": 66,
   "metadata": {},
   "outputs": [
    {
     "data": {
      "text/plain": [
       "array([0.00000000e+00, 2.49922750e-04, 6.26656192e-02, 9.41076950e-02,\n",
       "       1.25332738e-01, 1.56433848e-01, 1.87380575e-01, 2.18142380e-01,\n",
       "       2.48688905e-01, 2.78990005e-01, 3.09015775e-01, 3.38736583e-01,\n",
       "       3.68123100e-01, 3.97146323e-01, 4.25777611e-01, 4.53988708e-01,\n",
       "       4.81751772e-01, 5.09039406e-01, 5.35824680e-01, 5.62081159e-01,\n",
       "       5.87782932e-01, 6.12904634e-01, 6.37421474e-01, 6.61309255e-01,\n",
       "       6.84544404e-01, 7.07103990e-01, 7.28965750e-01, 7.50108109e-01,\n",
       "       7.70510201e-01, 7.90151893e-01, 8.09013801e-01, 8.27077309e-01,\n",
       "       8.44324593e-01, 8.60738629e-01, 8.76303221e-01, 8.91003007e-01,\n",
       "       9.04823481e-01, 9.17751003e-01, 9.29772816e-01, 9.40877055e-01,\n",
       "       9.51052762e-01, 9.60289895e-01, 9.68579338e-01, 9.75912909e-01,\n",
       "       9.82283373e-01, 9.87684442e-01, 9.92110785e-01, 9.95558035e-01,\n",
       "       9.98022789e-01, 9.99502615e-01, 9.99996052e-01, 9.99502615e-01,\n",
       "       9.98022789e-01, 9.95558035e-01, 9.92110785e-01, 9.87684442e-01,\n",
       "       9.82283373e-01, 9.75912909e-01, 9.68579338e-01, 9.60289895e-01,\n",
       "       9.51052762e-01, 9.40877055e-01, 9.29772816e-01, 9.17751003e-01,\n",
       "       9.04823481e-01, 8.91003007e-01, 8.76303221e-01, 8.60738629e-01,\n",
       "       8.44324593e-01, 8.27077309e-01, 8.09013801e-01, 7.90151893e-01,\n",
       "       7.70510201e-01, 7.50108109e-01, 7.28965750e-01, 7.07103990e-01,\n",
       "       6.84544404e-01, 6.61309255e-01, 6.37421474e-01, 6.12904634e-01,\n",
       "       5.87782932e-01, 5.62081159e-01, 5.35824680e-01, 5.09039406e-01,\n",
       "       4.81751772e-01, 4.53988708e-01, 4.25777611e-01, 3.97146323e-01,\n",
       "       3.68123100e-01, 3.38736583e-01, 3.09015775e-01, 2.78990005e-01,\n",
       "       2.48688905e-01, 2.18142380e-01, 1.87380575e-01, 1.56433848e-01,\n",
       "       1.25332738e-01, 9.41076950e-02, 6.26656192e-02, 2.49922750e-04,\n",
       "       0.00000000e+00])"
      ]
     },
     "execution_count": 66,
     "metadata": {},
     "output_type": "execute_result"
    }
   ],
   "source": [
    "u[:, 100]"
   ]
  },
  {
   "cell_type": "code",
   "execution_count": 42,
   "metadata": {},
   "outputs": [
    {
     "name": "stderr",
     "output_type": "stream",
     "text": [
      "C:\\Users\\duppu\\AppData\\Local\\Temp\\ipykernel_18072\\2717889184.py:8: RuntimeWarning:\n",
      "\n",
      "divide by zero encountered in divide\n",
      "\n",
      "C:\\Users\\duppu\\AppData\\Local\\Temp\\ipykernel_18072\\2717889184.py:8: RuntimeWarning:\n",
      "\n",
      "invalid value encountered in sin\n",
      "\n"
     ]
    }
   ],
   "source": [
    "A, b, x_array = bvp.construct_matrix()\n",
    "\n",
    "u = np.zeros((len(x_array), len(t)))\n",
    "u[:, 0] = bvp.f_fun(x_array, t[0])\n",
    "u[0, :] = bvp.alpha\n",
    "u[-1, :] = bvp.beta\n",
    "\n",
    "def PDE(t, u):\n",
    "   return bvp.C * (A @ u + b)"
   ]
  },
  {
   "cell_type": "code",
   "execution_count": 48,
   "metadata": {},
   "outputs": [
    {
     "data": {
      "text/plain": [
       "0.0"
      ]
     },
     "execution_count": 48,
     "metadata": {},
     "output_type": "execute_result"
    }
   ],
   "source": [
    "]"
   ]
  },
  {
   "cell_type": "code",
   "execution_count": 158,
   "metadata": {},
   "outputs": [],
   "source": [
    "print(u.shape)"
   ]
  }
 ],
 "metadata": {
  "kernelspec": {
   "display_name": "ScientificComputing",
   "language": "python",
   "name": "python3"
  },
  "language_info": {
   "codemirror_mode": {
    "name": "ipython",
    "version": 3
   },
   "file_extension": ".py",
   "mimetype": "text/x-python",
   "name": "python",
   "nbconvert_exporter": "python",
   "pygments_lexer": "ipython3",
   "version": "3.10.9"
  },
  "orig_nbformat": 4
 },
 "nbformat": 4,
 "nbformat_minor": 2
}
