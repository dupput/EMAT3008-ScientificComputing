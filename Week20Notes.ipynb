{
 "cells": [
  {
   "cell_type": "code",
   "execution_count": 1,
   "metadata": {},
   "outputs": [],
   "source": [
    "from scipy.integrate import solve_ivp\n",
    "from math import ceil\n",
    "import numpy as np\n",
    "import matplotlib.pyplot as plt\n",
    "import matplotlib.animation as animation"
   ]
  },
  {
   "cell_type": "code",
   "execution_count": 2,
   "metadata": {},
   "outputs": [],
   "source": [
    "\"\"\"\n",
    "    problem parameters\n",
    "\"\"\"\n",
    "\n",
    "# diffusion coefficient\n",
    "D =0.5\n",
    "\n",
    "# domain\n",
    "a = 0\n",
    "b = 1\n"
   ]
  },
  {
   "cell_type": "code",
   "execution_count": null,
   "metadata": {},
   "outputs": [],
   "source": [
    "# Grid creation\n",
    "N = 100\n",
    "dx = (b - a)/ N\n",
    "\n",
    "# Define C\n",
    "C = 0.49\n",
    "\n",
    "\n",
    "# Time discretization\n",
    "dt = C * dx **2 / D\n",
    "t_final = 1\n",
    "N_time = ceil(t_final / dt)\n",
    "t = dt * np.arange(N_time + 1)"
   ]
  },
  {
   "cell_type": "code",
   "execution_count": null,
   "metadata": {},
   "outputs": [],
   "source": [
    "# Pre allocate solution\n",
    "u = np.zeros((N_time + 1, N - 1))\n",
    "u[0,:] = f(x_int)\n"
   ]
  },
  {
   "cell_type": "code",
   "execution_count": null,
   "metadata": {},
   "outputs": [],
   "source": [
    "# Create the finite-difference grid\n",
    "\n",
    "\n",
    "def PDE(t, u, D, A_DD, b_DD):\n",
    "    return D / dx ** 2 * (A_DD @ u + b_DD)\n",
    "\n",
    "sol = solve_ivp(PDE, [0, t_final], u[0,:], args=(D, A_DD, b_DD), t_eval=t)"
   ]
  }
 ],
 "metadata": {
  "kernelspec": {
   "display_name": "ScientificComputing",
   "language": "python",
   "name": "python3"
  },
  "language_info": {
   "codemirror_mode": {
    "name": "ipython",
    "version": 3
   },
   "file_extension": ".py",
   "mimetype": "text/x-python",
   "name": "python",
   "nbconvert_exporter": "python",
   "pygments_lexer": "ipython3",
   "version": "3.10.9"
  },
  "orig_nbformat": 4
 },
 "nbformat": 4,
 "nbformat_minor": 2
}
